{
  "nbformat": 4,
  "nbformat_minor": 0,
  "metadata": {
    "colab": {
      "name": "Beet Labs - Machine Learning 01.ipynb",
      "provenance": [],
      "collapsed_sections": [
        "NeHoyry-Izrl",
        "yBdSviviJJPE",
        "Yw8Wi9KnKFW0",
        "c4GL5BTYOIe6"
      ]
    },
    "kernelspec": {
      "name": "python3",
      "display_name": "Python 3"
    },
    "language_info": {
      "name": "python"
    }
  },
  "cells": [
    {
      "cell_type": "markdown",
      "source": [
        "<img src=\"https://raw.githubusercontent.com/saulocatharino/assistente_virtual/master/logobeetlabs.png\" width=600>\n",
        "<br><br>\n",
        "\n",
        "<h1><b>MENTORIA PERSONALIZADA</b></h1><br>\n",
        "\n",
        "\n",
        "---\n",
        "\n",
        "\n",
        "<br>\n",
        "<h4><b>INTRODUÇÃO AO SCIKIT-LEARN</b></h4>\n",
        "<br>\n",
        "Uma das mais conhecidas bibliotecas por obter um pacote que fornece versões eficientes de um grande número de algoritmos comuns.\n",
        "<br><br>\n",
        "O Scikit-Learn é caracterizado por ser simples e por possuir uma <a href ='https://scikit-learn.org/stable/' target='_blank'>documentação</a> online completa bem compreensível.\n",
        "<br><br>\n",
        "\n",
        "\n",
        "---\n",
        "\n",
        "<br>\n"
      ],
      "metadata": {
        "id": "9K7-Qp6N3gr5"
      }
    },
    {
      "cell_type": "markdown",
      "source": [
        "## **CLASSIFICAÇÃO** ##\n",
        "\n",
        "Aprendizado supervisionado utilizado para identificar a qual categoria um objeto pertence.\n",
        "<br><br>\n",
        "<b>Aplicações:</b><br> Detecção de SPAM, Reconhecimento de Imagens, Reconhecimento de Pessoas, entre outras.\n"
      ],
      "metadata": {
        "id": "NeHoyry-Izrl"
      }
    },
    {
      "cell_type": "markdown",
      "source": [
        "<br><br>\n",
        "<img src='https://raw.githubusercontent.com/saulocatharino/Imers-oPython/main/ML%20-%200.png' width=600>\n",
        "<br>\n",
        "<img src='https://raw.githubusercontent.com/saulocatharino/Imers-oPython/main/ML%20-%201.png' width=600>\n",
        "<br>\n",
        "<img src='https://raw.githubusercontent.com/saulocatharino/Imers-oPython/main/ML%20-%202.png' width=600>\n",
        "<br>\n",
        "<img src='https://raw.githubusercontent.com/saulocatharino/Imers-oPython/main/ML%20-%203.png' width=600>\n",
        "<br>\n",
        "<img src='https://raw.githubusercontent.com/saulocatharino/Imers-oPython/main/ML%20-%204.png' width=600>\n",
        "<br>\n",
        "<img src='hhttps://raw.githubusercontent.com/saulocatharino/Imers-oPython/main/ML%20-%206.png' width=600>\n",
        "<br>\n",
        "<img src='https://raw.githubusercontent.com/saulocatharino/Imers-oPython/main/ML%20-%207.png' width=600>\n",
        "<br>\n",
        "<img src='https://raw.githubusercontent.com/saulocatharino/Imers-oPython/main/ML%20-%208.png' width=600>\n",
        "\n",
        "<br>\n",
        "<img src='https://raw.githubusercontent.com/saulocatharino/Imers-oPython/main/ML%20-%209.png' width=600>"
      ],
      "metadata": {
        "id": "LVoDIk2OI7fC"
      }
    },
    {
      "cell_type": "markdown",
      "source": [
        "## **REGRESSÃO**##\n",
        "\n",
        "Aprendizado supervisionado utilizado para prever um atributo de valor contínuo associado a um objeto.\n",
        "<br>\n",
        "<b>Aplicações:</b><br>\n",
        "Aplicações: Resposta a medicamentos, Preços de ações, Detecção de anomalias, entre outras.\n"
      ],
      "metadata": {
        "id": "yBdSviviJJPE"
      }
    },
    {
      "cell_type": "markdown",
      "source": [
        "<br>\n",
        "<img src='https://drive.google.com/uc?export=view&id=13tjCtlqSxIDvq4qc01DiugvJOJOIaxew' width=600>\n",
        "<br>\n",
        "<img src='https://drive.google.com/uc?export=view&id=1GOEHVIo6PiLg3tsLIQm9mK21qpEfnCI0' width=600>\n",
        "<br>\n",
        "<img src='https://drive.google.com/uc?export=view&id=19vLOf_cEIbCWTskCMDc3MPTCHsy41qKr' width=600>"
      ],
      "metadata": {
        "id": "KiOFym-iJSBr"
      }
    },
    {
      "cell_type": "markdown",
      "source": [
        "## **CLUSTER** ##\n",
        "\n",
        "Agrupamento automático de objetos semelhantes em conjuntos.<br>\n",
        "<b>Aplicações:</b><br>\n",
        "Segmentação de clientes, resultados de experimentos de agrupamento, segmentar cores, entre outras."
      ],
      "metadata": {
        "id": "Yw8Wi9KnKFW0"
      }
    },
    {
      "cell_type": "markdown",
      "source": [
        "<br>\n",
        "<img src='https://drive.google.com/uc?export=view&id=10yIbL3LLa5bgRRWZNapSbKfg4xbRmyqn' width=600>"
      ],
      "metadata": {
        "id": "B7lgW4aoKpV8"
      }
    },
    {
      "cell_type": "markdown",
      "source": [
        "## **E ESTES DADOS?** ##\n",
        "\n"
      ],
      "metadata": {
        "id": "LQLC6moyLU2-"
      }
    },
    {
      "cell_type": "markdown",
      "source": [
        "<img src='https://raw.githubusercontent.com/saulocatharino/Imers-oPython/main/ML%20-%2015.png' width=600>\n"
      ],
      "metadata": {
        "id": "ls3WuGC-Nqck"
      }
    },
    {
      "cell_type": "markdown",
      "source": [
        "## **QUAL ALGORITMO DEVO USAR?** ##\n"
      ],
      "metadata": {
        "id": "c4GL5BTYOIe6"
      }
    },
    {
      "cell_type": "markdown",
      "source": [
        "<img src='https://raw.githubusercontent.com/saulocatharino/Imers-oPython/main/ML%20-%2016.png' width=1000>\n"
      ],
      "metadata": {
        "id": "XTP4vcidOVhw"
      }
    },
    {
      "cell_type": "markdown",
      "source": [
        "## **CLASSIFICAÇÃO PRÁTICA** ##"
      ],
      "metadata": {
        "id": "8ngxCnODPHqt"
      }
    },
    {
      "cell_type": "code",
      "source": [
        "from sklearn.datasets import load_iris\n",
        "\n",
        "# Aquisição do dataset para testes contendo 3 classes de flores.\n",
        "iris = load_iris()\n",
        "\n",
        "\n",
        "# Verifica todas as 'keys' dentro do dataset\n",
        "iris.keys()"
      ],
      "metadata": {
        "colab": {
          "base_uri": "https://localhost:8080/"
        },
        "id": "cOcOa1WuPGpR",
        "outputId": "15507c1b-ecaf-433b-95da-66f19b5d8cd2"
      },
      "execution_count": null,
      "outputs": [
        {
          "output_type": "execute_result",
          "data": {
            "text/plain": [
              "dict_keys(['data', 'target', 'frame', 'target_names', 'DESCR', 'feature_names', 'filename', 'data_module'])"
            ]
          },
          "metadata": {},
          "execution_count": 10
        }
      ]
    },
    {
      "cell_type": "code",
      "source": [
        "# Cria string contendo descrição do dataset\n",
        "desc = iris['DESCR']\n",
        "\n",
        "# Cria array contendo os nomes dos parâmetros, equivalente ao cabeçalho do CSV\n",
        "head = iris['feature_names']\n",
        "\n",
        "# Cria array contendo os nomes das classes de flores\n",
        "label = iris['target_names']\n",
        "\n",
        "# Cria array para treinamento de modelo contendo os valores dos 4 features para cada uma das 150 flores cadastradas\n",
        "X = iris['data']\n",
        "\n",
        "# Cria array para treinamento de modelo contendo as classes  em formato numeral, de cada uma das 150 flores cadastradas.\n",
        "y = iris['target']\n"
      ],
      "metadata": {
        "id": "cuDhG7zpPwnx"
      },
      "execution_count": null,
      "outputs": []
    },
    {
      "cell_type": "code",
      "source": [
        "print(desc)"
      ],
      "metadata": {
        "colab": {
          "base_uri": "https://localhost:8080/"
        },
        "id": "0mVMWhEfQ_8f",
        "outputId": "be021a70-e7dc-40cf-b25e-8fa1103952f6"
      },
      "execution_count": null,
      "outputs": [
        {
          "output_type": "stream",
          "name": "stdout",
          "text": [
            ".. _iris_dataset:\n",
            "\n",
            "Iris plants dataset\n",
            "--------------------\n",
            "\n",
            "**Data Set Characteristics:**\n",
            "\n",
            "    :Number of Instances: 150 (50 in each of three classes)\n",
            "    :Number of Attributes: 4 numeric, predictive attributes and the class\n",
            "    :Attribute Information:\n",
            "        - sepal length in cm\n",
            "        - sepal width in cm\n",
            "        - petal length in cm\n",
            "        - petal width in cm\n",
            "        - class:\n",
            "                - Iris-Setosa\n",
            "                - Iris-Versicolour\n",
            "                - Iris-Virginica\n",
            "                \n",
            "    :Summary Statistics:\n",
            "\n",
            "    ============== ==== ==== ======= ===== ====================\n",
            "                    Min  Max   Mean    SD   Class Correlation\n",
            "    ============== ==== ==== ======= ===== ====================\n",
            "    sepal length:   4.3  7.9   5.84   0.83    0.7826\n",
            "    sepal width:    2.0  4.4   3.05   0.43   -0.4194\n",
            "    petal length:   1.0  6.9   3.76   1.76    0.9490  (high!)\n",
            "    petal width:    0.1  2.5   1.20   0.76    0.9565  (high!)\n",
            "    ============== ==== ==== ======= ===== ====================\n",
            "\n",
            "    :Missing Attribute Values: None\n",
            "    :Class Distribution: 33.3% for each of 3 classes.\n",
            "    :Creator: R.A. Fisher\n",
            "    :Donor: Michael Marshall (MARSHALL%PLU@io.arc.nasa.gov)\n",
            "    :Date: July, 1988\n",
            "\n",
            "The famous Iris database, first used by Sir R.A. Fisher. The dataset is taken\n",
            "from Fisher's paper. Note that it's the same as in R, but not as in the UCI\n",
            "Machine Learning Repository, which has two wrong data points.\n",
            "\n",
            "This is perhaps the best known database to be found in the\n",
            "pattern recognition literature.  Fisher's paper is a classic in the field and\n",
            "is referenced frequently to this day.  (See Duda & Hart, for example.)  The\n",
            "data set contains 3 classes of 50 instances each, where each class refers to a\n",
            "type of iris plant.  One class is linearly separable from the other 2; the\n",
            "latter are NOT linearly separable from each other.\n",
            "\n",
            ".. topic:: References\n",
            "\n",
            "   - Fisher, R.A. \"The use of multiple measurements in taxonomic problems\"\n",
            "     Annual Eugenics, 7, Part II, 179-188 (1936); also in \"Contributions to\n",
            "     Mathematical Statistics\" (John Wiley, NY, 1950).\n",
            "   - Duda, R.O., & Hart, P.E. (1973) Pattern Classification and Scene Analysis.\n",
            "     (Q327.D83) John Wiley & Sons.  ISBN 0-471-22361-1.  See page 218.\n",
            "   - Dasarathy, B.V. (1980) \"Nosing Around the Neighborhood: A New System\n",
            "     Structure and Classification Rule for Recognition in Partially Exposed\n",
            "     Environments\".  IEEE Transactions on Pattern Analysis and Machine\n",
            "     Intelligence, Vol. PAMI-2, No. 1, 67-71.\n",
            "   - Gates, G.W. (1972) \"The Reduced Nearest Neighbor Rule\".  IEEE Transactions\n",
            "     on Information Theory, May 1972, 431-433.\n",
            "   - See also: 1988 MLC Proceedings, 54-64.  Cheeseman et al\"s AUTOCLASS II\n",
            "     conceptual clustering system finds 3 classes in the data.\n",
            "   - Many, many more ...\n"
          ]
        }
      ]
    },
    {
      "cell_type": "code",
      "source": [
        "print(head)"
      ],
      "metadata": {
        "colab": {
          "base_uri": "https://localhost:8080/"
        },
        "id": "m7I8ey6LQr5M",
        "outputId": "685dd88c-a53e-461e-bb15-3ffb5880081e"
      },
      "execution_count": null,
      "outputs": [
        {
          "output_type": "stream",
          "name": "stdout",
          "text": [
            "['sepal length (cm)', 'sepal width (cm)', 'petal length (cm)', 'petal width (cm)']\n"
          ]
        }
      ]
    },
    {
      "cell_type": "markdown",
      "source": [
        "<img src='https://s3.amazonaws.com/assets.datacamp.com/blog_assets/Machine+Learning+R/iris-machinelearning.png' width=500><br>\n",
        "\n",
        "<img src='https://python-course.eu/images/machine-learning/sepals_and_petals_600w.webp' width=500><br>\n",
        "\n",
        "<img src='https://miro.medium.com/max/1400/1*2vTEJYgA9TnWPM81fBz7tw.png' width=500>"
      ],
      "metadata": {
        "id": "pwW_GrH-Y3gO"
      }
    },
    {
      "cell_type": "code",
      "source": [
        "print(X)"
      ],
      "metadata": {
        "colab": {
          "base_uri": "https://localhost:8080/"
        },
        "id": "3biKM-SlRPzt",
        "outputId": "7b4aeabe-aefc-4437-abaa-6fba10518197"
      },
      "execution_count": null,
      "outputs": [
        {
          "output_type": "stream",
          "name": "stdout",
          "text": [
            "[[5.1 3.5 1.4 0.2]\n",
            " [4.9 3.  1.4 0.2]\n",
            " [4.7 3.2 1.3 0.2]\n",
            " [4.6 3.1 1.5 0.2]\n",
            " [5.  3.6 1.4 0.2]\n",
            " [5.4 3.9 1.7 0.4]\n",
            " [4.6 3.4 1.4 0.3]\n",
            " [5.  3.4 1.5 0.2]\n",
            " [4.4 2.9 1.4 0.2]\n",
            " [4.9 3.1 1.5 0.1]\n",
            " [5.4 3.7 1.5 0.2]\n",
            " [4.8 3.4 1.6 0.2]\n",
            " [4.8 3.  1.4 0.1]\n",
            " [4.3 3.  1.1 0.1]\n",
            " [5.8 4.  1.2 0.2]\n",
            " [5.7 4.4 1.5 0.4]\n",
            " [5.4 3.9 1.3 0.4]\n",
            " [5.1 3.5 1.4 0.3]\n",
            " [5.7 3.8 1.7 0.3]\n",
            " [5.1 3.8 1.5 0.3]\n",
            " [5.4 3.4 1.7 0.2]\n",
            " [5.1 3.7 1.5 0.4]\n",
            " [4.6 3.6 1.  0.2]\n",
            " [5.1 3.3 1.7 0.5]\n",
            " [4.8 3.4 1.9 0.2]\n",
            " [5.  3.  1.6 0.2]\n",
            " [5.  3.4 1.6 0.4]\n",
            " [5.2 3.5 1.5 0.2]\n",
            " [5.2 3.4 1.4 0.2]\n",
            " [4.7 3.2 1.6 0.2]\n",
            " [4.8 3.1 1.6 0.2]\n",
            " [5.4 3.4 1.5 0.4]\n",
            " [5.2 4.1 1.5 0.1]\n",
            " [5.5 4.2 1.4 0.2]\n",
            " [4.9 3.1 1.5 0.2]\n",
            " [5.  3.2 1.2 0.2]\n",
            " [5.5 3.5 1.3 0.2]\n",
            " [4.9 3.6 1.4 0.1]\n",
            " [4.4 3.  1.3 0.2]\n",
            " [5.1 3.4 1.5 0.2]\n",
            " [5.  3.5 1.3 0.3]\n",
            " [4.5 2.3 1.3 0.3]\n",
            " [4.4 3.2 1.3 0.2]\n",
            " [5.  3.5 1.6 0.6]\n",
            " [5.1 3.8 1.9 0.4]\n",
            " [4.8 3.  1.4 0.3]\n",
            " [5.1 3.8 1.6 0.2]\n",
            " [4.6 3.2 1.4 0.2]\n",
            " [5.3 3.7 1.5 0.2]\n",
            " [5.  3.3 1.4 0.2]\n",
            " [7.  3.2 4.7 1.4]\n",
            " [6.4 3.2 4.5 1.5]\n",
            " [6.9 3.1 4.9 1.5]\n",
            " [5.5 2.3 4.  1.3]\n",
            " [6.5 2.8 4.6 1.5]\n",
            " [5.7 2.8 4.5 1.3]\n",
            " [6.3 3.3 4.7 1.6]\n",
            " [4.9 2.4 3.3 1. ]\n",
            " [6.6 2.9 4.6 1.3]\n",
            " [5.2 2.7 3.9 1.4]\n",
            " [5.  2.  3.5 1. ]\n",
            " [5.9 3.  4.2 1.5]\n",
            " [6.  2.2 4.  1. ]\n",
            " [6.1 2.9 4.7 1.4]\n",
            " [5.6 2.9 3.6 1.3]\n",
            " [6.7 3.1 4.4 1.4]\n",
            " [5.6 3.  4.5 1.5]\n",
            " [5.8 2.7 4.1 1. ]\n",
            " [6.2 2.2 4.5 1.5]\n",
            " [5.6 2.5 3.9 1.1]\n",
            " [5.9 3.2 4.8 1.8]\n",
            " [6.1 2.8 4.  1.3]\n",
            " [6.3 2.5 4.9 1.5]\n",
            " [6.1 2.8 4.7 1.2]\n",
            " [6.4 2.9 4.3 1.3]\n",
            " [6.6 3.  4.4 1.4]\n",
            " [6.8 2.8 4.8 1.4]\n",
            " [6.7 3.  5.  1.7]\n",
            " [6.  2.9 4.5 1.5]\n",
            " [5.7 2.6 3.5 1. ]\n",
            " [5.5 2.4 3.8 1.1]\n",
            " [5.5 2.4 3.7 1. ]\n",
            " [5.8 2.7 3.9 1.2]\n",
            " [6.  2.7 5.1 1.6]\n",
            " [5.4 3.  4.5 1.5]\n",
            " [6.  3.4 4.5 1.6]\n",
            " [6.7 3.1 4.7 1.5]\n",
            " [6.3 2.3 4.4 1.3]\n",
            " [5.6 3.  4.1 1.3]\n",
            " [5.5 2.5 4.  1.3]\n",
            " [5.5 2.6 4.4 1.2]\n",
            " [6.1 3.  4.6 1.4]\n",
            " [5.8 2.6 4.  1.2]\n",
            " [5.  2.3 3.3 1. ]\n",
            " [5.6 2.7 4.2 1.3]\n",
            " [5.7 3.  4.2 1.2]\n",
            " [5.7 2.9 4.2 1.3]\n",
            " [6.2 2.9 4.3 1.3]\n",
            " [5.1 2.5 3.  1.1]\n",
            " [5.7 2.8 4.1 1.3]\n",
            " [6.3 3.3 6.  2.5]\n",
            " [5.8 2.7 5.1 1.9]\n",
            " [7.1 3.  5.9 2.1]\n",
            " [6.3 2.9 5.6 1.8]\n",
            " [6.5 3.  5.8 2.2]\n",
            " [7.6 3.  6.6 2.1]\n",
            " [4.9 2.5 4.5 1.7]\n",
            " [7.3 2.9 6.3 1.8]\n",
            " [6.7 2.5 5.8 1.8]\n",
            " [7.2 3.6 6.1 2.5]\n",
            " [6.5 3.2 5.1 2. ]\n",
            " [6.4 2.7 5.3 1.9]\n",
            " [6.8 3.  5.5 2.1]\n",
            " [5.7 2.5 5.  2. ]\n",
            " [5.8 2.8 5.1 2.4]\n",
            " [6.4 3.2 5.3 2.3]\n",
            " [6.5 3.  5.5 1.8]\n",
            " [7.7 3.8 6.7 2.2]\n",
            " [7.7 2.6 6.9 2.3]\n",
            " [6.  2.2 5.  1.5]\n",
            " [6.9 3.2 5.7 2.3]\n",
            " [5.6 2.8 4.9 2. ]\n",
            " [7.7 2.8 6.7 2. ]\n",
            " [6.3 2.7 4.9 1.8]\n",
            " [6.7 3.3 5.7 2.1]\n",
            " [7.2 3.2 6.  1.8]\n",
            " [6.2 2.8 4.8 1.8]\n",
            " [6.1 3.  4.9 1.8]\n",
            " [6.4 2.8 5.6 2.1]\n",
            " [7.2 3.  5.8 1.6]\n",
            " [7.4 2.8 6.1 1.9]\n",
            " [7.9 3.8 6.4 2. ]\n",
            " [6.4 2.8 5.6 2.2]\n",
            " [6.3 2.8 5.1 1.5]\n",
            " [6.1 2.6 5.6 1.4]\n",
            " [7.7 3.  6.1 2.3]\n",
            " [6.3 3.4 5.6 2.4]\n",
            " [6.4 3.1 5.5 1.8]\n",
            " [6.  3.  4.8 1.8]\n",
            " [6.9 3.1 5.4 2.1]\n",
            " [6.7 3.1 5.6 2.4]\n",
            " [6.9 3.1 5.1 2.3]\n",
            " [5.8 2.7 5.1 1.9]\n",
            " [6.8 3.2 5.9 2.3]\n",
            " [6.7 3.3 5.7 2.5]\n",
            " [6.7 3.  5.2 2.3]\n",
            " [6.3 2.5 5.  1.9]\n",
            " [6.5 3.  5.2 2. ]\n",
            " [6.2 3.4 5.4 2.3]\n",
            " [5.9 3.  5.1 1.8]]\n"
          ]
        }
      ]
    },
    {
      "cell_type": "code",
      "source": [
        "print(y)"
      ],
      "metadata": {
        "colab": {
          "base_uri": "https://localhost:8080/"
        },
        "id": "7Kf5DJeERUwk",
        "outputId": "d1acc11b-af46-40d4-b124-fc02c27d8353"
      },
      "execution_count": null,
      "outputs": [
        {
          "output_type": "stream",
          "name": "stdout",
          "text": [
            "[0 0 0 0 0 0 0 0 0 0 0 0 0 0 0 0 0 0 0 0 0 0 0 0 0 0 0 0 0 0 0 0 0 0 0 0 0\n",
            " 0 0 0 0 0 0 0 0 0 0 0 0 0 1 1 1 1 1 1 1 1 1 1 1 1 1 1 1 1 1 1 1 1 1 1 1 1\n",
            " 1 1 1 1 1 1 1 1 1 1 1 1 1 1 1 1 1 1 1 1 1 1 1 1 1 1 2 2 2 2 2 2 2 2 2 2 2\n",
            " 2 2 2 2 2 2 2 2 2 2 2 2 2 2 2 2 2 2 2 2 2 2 2 2 2 2 2 2 2 2 2 2 2 2 2 2 2\n",
            " 2 2]\n"
          ]
        }
      ]
    },
    {
      "cell_type": "code",
      "source": [
        "print(label)"
      ],
      "metadata": {
        "colab": {
          "base_uri": "https://localhost:8080/"
        },
        "id": "g2BFiw-cS-Wr",
        "outputId": "2fe6a49d-5c2d-4d8f-a0fa-3b664c77f65a"
      },
      "execution_count": null,
      "outputs": [
        {
          "output_type": "stream",
          "name": "stdout",
          "text": [
            "['setosa' 'versicolor' 'virginica']\n"
          ]
        }
      ]
    },
    {
      "cell_type": "code",
      "source": [
        "print(type(X))\n",
        "print(type(y))\n",
        "print(type(label))\n",
        "print(type(desc))"
      ],
      "metadata": {
        "colab": {
          "base_uri": "https://localhost:8080/"
        },
        "id": "6uKKRVZxPQHT",
        "outputId": "4dce1730-7a0c-4c70-ce62-e9c89082a577"
      },
      "execution_count": null,
      "outputs": [
        {
          "output_type": "stream",
          "name": "stdout",
          "text": [
            "<class 'numpy.ndarray'>\n",
            "<class 'numpy.ndarray'>\n",
            "<class 'numpy.ndarray'>\n",
            "<class 'str'>\n"
          ]
        }
      ]
    },
    {
      "cell_type": "code",
      "source": [
        "print(len(X))\n",
        "print(len(y))\n",
        "print(len(label))\n",
        "print(len(names))"
      ],
      "metadata": {
        "colab": {
          "base_uri": "https://localhost:8080/"
        },
        "id": "8MWziNgNPUyG",
        "outputId": "8494b6ca-7627-4c74-dc06-5ddce9d69875"
      },
      "execution_count": null,
      "outputs": [
        {
          "output_type": "stream",
          "name": "stdout",
          "text": [
            "150\n",
            "150\n",
            "3\n",
            "4\n"
          ]
        }
      ]
    },
    {
      "cell_type": "code",
      "source": [
        "# Exibe a primeira flor cadastrada no banco de dados, no caso o index é o ZERO (0).\n",
        "\n",
        "# Em 'X' temos as medidas da flor e em 'Y' qual flor é relativas às medidas \n",
        "\n",
        "print(X[0])\n",
        "print(y[0])\n",
        "classe_id = y[0]\n",
        "print(label[classe_id])\n"
      ],
      "metadata": {
        "colab": {
          "base_uri": "https://localhost:8080/"
        },
        "id": "24FYES2_PY7L",
        "outputId": "6d839a69-9677-4664-8e44-cf4982efba38"
      },
      "execution_count": null,
      "outputs": [
        {
          "output_type": "stream",
          "name": "stdout",
          "text": [
            "[5.1 3.5 1.4 0.2]\n",
            "0\n",
            "setosa\n"
          ]
        }
      ]
    },
    {
      "cell_type": "markdown",
      "source": [
        "<h4><b>TREINAMENTO DE MODELO</b></h4>"
      ],
      "metadata": {
        "id": "qK0LNSmubZ7-"
      }
    },
    {
      "cell_type": "code",
      "source": [
        "# Importando algoritmo para classificação\n",
        "from sklearn.neighbors import KNeighborsClassifier\n",
        "\n",
        "# Criando modelo, classificando 1 vizinho como parâmetro\n",
        "model = KNeighborsClassifier(n_neighbors=1)\n",
        "\n",
        "# Treinando modelo com os valores dos atributos e as classes\n",
        "model.fit(X, y);"
      ],
      "metadata": {
        "id": "1JZCQs6YTfwz"
      },
      "execution_count": null,
      "outputs": []
    },
    {
      "cell_type": "code",
      "source": [
        "# Selecionamos um index para adquirir uma flor do dataset e ajustamos o formato da array para predição.\n",
        "flor_desconhecida = [[6.8,2.1,4.8,1.4]]\n",
        "\n",
        "# Exibe cada atributo e seu respectivo valor\n",
        "for e in range(0,len(head)):\n",
        "  print(head[e],flor_desconhecida[0][e])\n",
        "\n",
        "\n",
        "print(\"-\"*20)\n",
        "print(flor_desconhecida)"
      ],
      "metadata": {
        "colab": {
          "base_uri": "https://localhost:8080/"
        },
        "id": "Qytl_S-0UJE8",
        "outputId": "202fa724-9cb1-4193-887b-45225b9880c8"
      },
      "execution_count": null,
      "outputs": [
        {
          "output_type": "stream",
          "name": "stdout",
          "text": [
            "sepal length (cm) 6.8\n",
            "sepal width (cm) 2.1\n",
            "petal length (cm) 4.8\n",
            "petal width (cm) 1.4\n",
            "--------------------\n",
            "[[6.8, 2.1, 4.8, 1.4]]\n"
          ]
        }
      ]
    },
    {
      "cell_type": "markdown",
      "source": [
        "<h4><b>PREDIÇÃO</b></h4>"
      ],
      "metadata": {
        "id": "ArlIGy72bgU-"
      }
    },
    {
      "cell_type": "code",
      "source": [
        "# Realiza a predição nas características encontradas\n",
        "resultado = model.predict(flor_desconhecida)\n",
        "\n",
        "# Exibe o label e a classe resultante da classificação\n",
        "print(\"Classe: {}, Label: {}\".format(resultado, label[resultado]))"
      ],
      "metadata": {
        "colab": {
          "base_uri": "https://localhost:8080/"
        },
        "id": "fjlBENV3USNH",
        "outputId": "bc5ea613-1ae4-4e74-90b3-2fadaab136d4"
      },
      "execution_count": null,
      "outputs": [
        {
          "output_type": "stream",
          "name": "stdout",
          "text": [
            "Classe: [1], Label: ['versicolor']\n"
          ]
        }
      ]
    },
    {
      "cell_type": "code",
      "source": [
        "# Importa módulo para medir a precisão da classificação\n",
        "from sklearn.metrics import accuracy_score\n",
        "\n",
        "# Adquire todos os resultados da predição de todo o dataset em X\n",
        "y_predicted = model.predict(X)\n",
        "\n",
        "# Compara o resultado da predição 'y_predicted' em relação ao verdadeiro 'y'\n",
        "acc = accuracy_score(y, y_predicted) * 100\n",
        "\n",
        "print(\"Precisão do modelo: {}%\".format(acc))"
      ],
      "metadata": {
        "colab": {
          "base_uri": "https://localhost:8080/"
        },
        "id": "Dj8IP04wZFXL",
        "outputId": "a48a577e-8620-4735-d624-6a1ba2821488"
      },
      "execution_count": null,
      "outputs": [
        {
          "output_type": "stream",
          "name": "stdout",
          "text": [
            "Precisão do modelo: 100.0%\n"
          ]
        }
      ]
    }
  ]
}